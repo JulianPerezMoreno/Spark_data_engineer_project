{
 "cells": [
  {
   "cell_type": "code",
   "execution_count": null,
   "id": "929102ef",
   "metadata": {},
   "outputs": [
    {
     "name": "stderr",
     "output_type": "stream",
     "text": [
      "C:\\Users\\Joe_W\\AppData\\Local\\Temp\\ipykernel_16004\\1109857208.py:7: FutureWarning: YF.download() has changed argument auto_adjust default to True\n",
      "  data = yf.download(ticker, start=\"2015-01-01\", end=\"2025-10-23\")\n",
      "[*********************100%***********************]  1 of 1 completed\n"
     ]
    }
   ],
   "source": [
    "import yfinance as yf\n",
    "\n",
    "# EURO STOXX 50\n",
    "ticker = \"^STOXX50E\"\n",
    "\n",
    "# Download data since 2015\n",
    "data = yf.download(ticker, start=\"2015-01-01\", end=\"2025-10-23\")\n",
    "\n",
    "# Save as CSV\n",
    "data.to_csv(\"euro_stoxx50.csv\")"
   ]
  }
 ],
 "metadata": {
  "kernelspec": {
   "display_name": "spark_env",
   "language": "python",
   "name": "python3"
  },
  "language_info": {
   "codemirror_mode": {
    "name": "ipython",
    "version": 3
   },
   "file_extension": ".py",
   "mimetype": "text/x-python",
   "name": "python",
   "nbconvert_exporter": "python",
   "pygments_lexer": "ipython3",
   "version": "3.12.7"
  }
 },
 "nbformat": 4,
 "nbformat_minor": 5
}
