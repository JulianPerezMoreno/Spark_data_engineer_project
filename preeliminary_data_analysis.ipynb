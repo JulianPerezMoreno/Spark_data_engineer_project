{
 "cells": [
  {
   "cell_type": "code",
   "execution_count": 1,
   "id": "52fa16da",
   "metadata": {},
   "outputs": [],
   "source": [
    "import pandas as pd\n",
    "import numpy as np"
   ]
  },
  {
   "cell_type": "code",
   "execution_count": null,
   "id": "c953340d",
   "metadata": {},
   "outputs": [
    {
     "data": {
      "text/html": [
       "<div>\n",
       "<style scoped>\n",
       "    .dataframe tbody tr th:only-of-type {\n",
       "        vertical-align: middle;\n",
       "    }\n",
       "\n",
       "    .dataframe tbody tr th {\n",
       "        vertical-align: top;\n",
       "    }\n",
       "\n",
       "    .dataframe thead th {\n",
       "        text-align: right;\n",
       "    }\n",
       "</style>\n",
       "<table border=\"1\" class=\"dataframe\">\n",
       "  <thead>\n",
       "    <tr style=\"text-align: right;\">\n",
       "      <th></th>\n",
       "      <th>freq,unit,na_item,geo\\TIME_PERIOD</th>\n",
       "      <th>1975</th>\n",
       "      <th>1976</th>\n",
       "      <th>1977</th>\n",
       "      <th>1978</th>\n",
       "      <th>1979</th>\n",
       "      <th>1980</th>\n",
       "      <th>1981</th>\n",
       "      <th>1982</th>\n",
       "      <th>1983</th>\n",
       "      <th>...</th>\n",
       "      <th>2015</th>\n",
       "      <th>2016</th>\n",
       "      <th>2017</th>\n",
       "      <th>2018</th>\n",
       "      <th>2019</th>\n",
       "      <th>2020</th>\n",
       "      <th>2021</th>\n",
       "      <th>2022</th>\n",
       "      <th>2023</th>\n",
       "      <th>2024</th>\n",
       "    </tr>\n",
       "  </thead>\n",
       "  <tbody>\n",
       "    <tr>\n",
       "      <th>0</th>\n",
       "      <td>A,CLV05_MEUR,B1G,AL</td>\n",
       "      <td>:</td>\n",
       "      <td>:</td>\n",
       "      <td>:</td>\n",
       "      <td>:</td>\n",
       "      <td>:</td>\n",
       "      <td>:</td>\n",
       "      <td>:</td>\n",
       "      <td>:</td>\n",
       "      <td>:</td>\n",
       "      <td>...</td>\n",
       "      <td>7994.8</td>\n",
       "      <td>8305.9</td>\n",
       "      <td>8592.7</td>\n",
       "      <td>8914.3</td>\n",
       "      <td>9149.4</td>\n",
       "      <td>8927.2</td>\n",
       "      <td>9540.7</td>\n",
       "      <td>10039.3</td>\n",
       "      <td>10536.5</td>\n",
       "      <td>10873.1 p</td>\n",
       "    </tr>\n",
       "    <tr>\n",
       "      <th>1</th>\n",
       "      <td>A,CLV05_MEUR,B1G,AT</td>\n",
       "      <td>:</td>\n",
       "      <td>:</td>\n",
       "      <td>:</td>\n",
       "      <td>:</td>\n",
       "      <td>:</td>\n",
       "      <td>:</td>\n",
       "      <td>:</td>\n",
       "      <td>:</td>\n",
       "      <td>:</td>\n",
       "      <td>...</td>\n",
       "      <td>252957.6</td>\n",
       "      <td>258221.3</td>\n",
       "      <td>264412.6</td>\n",
       "      <td>271627.6</td>\n",
       "      <td>276482.8</td>\n",
       "      <td>259477.4</td>\n",
       "      <td>271146.4</td>\n",
       "      <td>288700.8</td>\n",
       "      <td>285720.1</td>\n",
       "      <td>282992.9</td>\n",
       "    </tr>\n",
       "    <tr>\n",
       "      <th>2</th>\n",
       "      <td>A,CLV05_MEUR,B1G,BA</td>\n",
       "      <td>:</td>\n",
       "      <td>:</td>\n",
       "      <td>:</td>\n",
       "      <td>:</td>\n",
       "      <td>:</td>\n",
       "      <td>:</td>\n",
       "      <td>:</td>\n",
       "      <td>:</td>\n",
       "      <td>:</td>\n",
       "      <td>...</td>\n",
       "      <td>9351.3 b</td>\n",
       "      <td>9650.5</td>\n",
       "      <td>9970.4</td>\n",
       "      <td>10347.6</td>\n",
       "      <td>10642.3</td>\n",
       "      <td>10350.5</td>\n",
       "      <td>11071.9</td>\n",
       "      <td>11532.7</td>\n",
       "      <td>11768.6</td>\n",
       "      <td>12040.2</td>\n",
       "    </tr>\n",
       "    <tr>\n",
       "      <th>3</th>\n",
       "      <td>A,CLV05_MEUR,B1G,BE</td>\n",
       "      <td>:</td>\n",
       "      <td>:</td>\n",
       "      <td>:</td>\n",
       "      <td>:</td>\n",
       "      <td>:</td>\n",
       "      <td>:</td>\n",
       "      <td>:</td>\n",
       "      <td>:</td>\n",
       "      <td>:</td>\n",
       "      <td>...</td>\n",
       "      <td>317686.5</td>\n",
       "      <td>320447.4</td>\n",
       "      <td>325019.4</td>\n",
       "      <td>331266.1</td>\n",
       "      <td>339917.3</td>\n",
       "      <td>325628.4</td>\n",
       "      <td>344168.5</td>\n",
       "      <td>359825.1</td>\n",
       "      <td>363671.5 p</td>\n",
       "      <td>367414.6 p</td>\n",
       "    </tr>\n",
       "    <tr>\n",
       "      <th>4</th>\n",
       "      <td>A,CLV05_MEUR,B1G,BG</td>\n",
       "      <td>:</td>\n",
       "      <td>:</td>\n",
       "      <td>:</td>\n",
       "      <td>:</td>\n",
       "      <td>:</td>\n",
       "      <td>:</td>\n",
       "      <td>:</td>\n",
       "      <td>:</td>\n",
       "      <td>:</td>\n",
       "      <td>...</td>\n",
       "      <td>26119.5</td>\n",
       "      <td>26792.6</td>\n",
       "      <td>27671.7</td>\n",
       "      <td>28590.9</td>\n",
       "      <td>29573.4</td>\n",
       "      <td>28647.1</td>\n",
       "      <td>30977.8</td>\n",
       "      <td>32669.9</td>\n",
       "      <td>33082.8</td>\n",
       "      <td>33914.1 p</td>\n",
       "    </tr>\n",
       "  </tbody>\n",
       "</table>\n",
       "<p>5 rows × 51 columns</p>\n",
       "</div>"
      ],
      "text/plain": [
       "  freq,unit,na_item,geo\\TIME_PERIOD 1975  1976  1977  1978  1979  1980  1981   \\\n",
       "0               A,CLV05_MEUR,B1G,AL    :     :     :     :     :     :     :    \n",
       "1               A,CLV05_MEUR,B1G,AT    :     :     :     :     :     :     :    \n",
       "2               A,CLV05_MEUR,B1G,BA    :     :     :     :     :     :     :    \n",
       "3               A,CLV05_MEUR,B1G,BE    :     :     :     :     :     :     :    \n",
       "4               A,CLV05_MEUR,B1G,BG    :     :     :     :     :     :     :    \n",
       "\n",
       "  1982  1983   ...      2015       2016       2017       2018       2019   \\\n",
       "0    :     :   ...    7994.8     8305.9     8592.7     8914.3     9149.4    \n",
       "1    :     :   ...  252957.6   258221.3   264412.6   271627.6   276482.8    \n",
       "2    :     :   ...   9351.3 b    9650.5     9970.4    10347.6    10642.3    \n",
       "3    :     :   ...  317686.5   320447.4   325019.4   331266.1   339917.3    \n",
       "4    :     :   ...   26119.5    26792.6    27671.7    28590.9    29573.4    \n",
       "\n",
       "       2020       2021       2022        2023        2024   \n",
       "0    8927.2     9540.7    10039.3     10536.5    10873.1 p  \n",
       "1  259477.4   271146.4   288700.8    285720.1    282992.9   \n",
       "2   10350.5    11071.9    11532.7     11768.6     12040.2   \n",
       "3  325628.4   344168.5   359825.1   363671.5 p  367414.6 p  \n",
       "4   28647.1    30977.8    32669.9     33082.8    33914.1 p  \n",
       "\n",
       "[5 rows x 51 columns]"
      ]
     },
     "execution_count": 2,
     "metadata": {},
     "output_type": "execute_result"
    }
   ],
   "source": [
    "# Data origin: https://ec.europa.eu/eurostat/databrowser/view/nama_10_gdp/default/table?lang=en&category=na10.nama10.nama_10_ma\n",
    "\n",
    "estat_name_10_gdp = pd.read_csv('estat_nama_10_gdp.tsv', sep='\\t')\n",
    "estat_name_10_gdp.head()"
   ]
  },
  {
   "cell_type": "code",
   "execution_count": 8,
   "id": "130cfa82",
   "metadata": {},
   "outputs": [
    {
     "data": {
      "text/plain": [
       "(34724, 51)"
      ]
     },
     "execution_count": 8,
     "metadata": {},
     "output_type": "execute_result"
    }
   ],
   "source": [
    "estat_name_10_gdp.shape"
   ]
  },
  {
   "cell_type": "code",
   "execution_count": 3,
   "id": "2652583d",
   "metadata": {},
   "outputs": [
    {
     "data": {
      "text/plain": [
       "Index(['freq,unit,na_item,geo\\TIME_PERIOD', '1975 ', '1976 ', '1977 ', '1978 ',\n",
       "       '1979 ', '1980 ', '1981 ', '1982 ', '1983 ', '1984 ', '1985 ', '1986 ',\n",
       "       '1987 ', '1988 ', '1989 ', '1990 ', '1991 ', '1992 ', '1993 ', '1994 ',\n",
       "       '1995 ', '1996 ', '1997 ', '1998 ', '1999 ', '2000 ', '2001 ', '2002 ',\n",
       "       '2003 ', '2004 ', '2005 ', '2006 ', '2007 ', '2008 ', '2009 ', '2010 ',\n",
       "       '2011 ', '2012 ', '2013 ', '2014 ', '2015 ', '2016 ', '2017 ', '2018 ',\n",
       "       '2019 ', '2020 ', '2021 ', '2022 ', '2023 ', '2024 '],\n",
       "      dtype='object')"
      ]
     },
     "execution_count": 3,
     "metadata": {},
     "output_type": "execute_result"
    }
   ],
   "source": [
    "estat_name_10_gdp.columns"
   ]
  },
  {
   "cell_type": "code",
   "execution_count": 6,
   "id": "42925028",
   "metadata": {},
   "outputs": [
    {
     "name": "stderr",
     "output_type": "stream",
     "text": [
      "<>:1: SyntaxWarning: invalid escape sequence '\\T'\n",
      "<>:1: SyntaxWarning: invalid escape sequence '\\T'\n",
      "C:\\Users\\Joe_W\\AppData\\Local\\Temp\\ipykernel_8884\\3613258596.py:1: SyntaxWarning: invalid escape sequence '\\T'\n",
      "  estat_name_10_gdp['freq,unit,na_item,geo\\TIME_PERIOD']\n"
     ]
    },
    {
     "data": {
      "text/plain": [
       "0        A,CLV05_MEUR,B1G,AL\n",
       "1        A,CLV05_MEUR,B1G,AT\n",
       "2        A,CLV05_MEUR,B1G,BA\n",
       "3        A,CLV05_MEUR,B1G,BE\n",
       "4        A,CLV05_MEUR,B1G,BG\n",
       "                ...         \n",
       "34719      A,PYP_MNAC,YA1,RO\n",
       "34720      A,PYP_MNAC,YA1,SI\n",
       "34721      A,PYP_MNAC,YA1,SK\n",
       "34722      A,PYP_MNAC,YA1,UK\n",
       "34723      A,PYP_MNAC,YA1,XK\n",
       "Name: freq,unit,na_item,geo\\TIME_PERIOD, Length: 34724, dtype: object"
      ]
     },
     "execution_count": 6,
     "metadata": {},
     "output_type": "execute_result"
    }
   ],
   "source": [
    "estat_name_10_gdp['freq,unit,na_item,geo\\TIME_PERIOD']"
   ]
  },
  {
   "cell_type": "code",
   "execution_count": 7,
   "id": "45306e3f",
   "metadata": {},
   "outputs": [
    {
     "name": "stderr",
     "output_type": "stream",
     "text": [
      "<>:1: SyntaxWarning: invalid escape sequence '\\T'\n",
      "<>:1: SyntaxWarning: invalid escape sequence '\\T'\n",
      "C:\\Users\\Joe_W\\AppData\\Local\\Temp\\ipykernel_8884\\3083864508.py:1: SyntaxWarning: invalid escape sequence '\\T'\n",
      "  estat_name_10_gdp['freq,unit,na_item,geo\\TIME_PERIOD'].value_counts()\n"
     ]
    },
    {
     "data": {
      "text/plain": [
       "freq,unit,na_item,geo\\TIME_PERIOD\n",
       "A,CLV05_MEUR,B1G,AL    1\n",
       "A,CLV05_MEUR,B1G,AT    1\n",
       "A,CLV05_MEUR,B1G,BA    1\n",
       "A,CLV05_MEUR,B1G,BE    1\n",
       "A,CLV05_MEUR,B1G,BG    1\n",
       "                      ..\n",
       "A,PYP_MNAC,YA1,RO      1\n",
       "A,PYP_MNAC,YA1,SI      1\n",
       "A,PYP_MNAC,YA1,SK      1\n",
       "A,PYP_MNAC,YA1,UK      1\n",
       "A,PYP_MNAC,YA1,XK      1\n",
       "Name: count, Length: 34724, dtype: int64"
      ]
     },
     "execution_count": 7,
     "metadata": {},
     "output_type": "execute_result"
    }
   ],
   "source": [
    "estat_name_10_gdp['freq,unit,na_item,geo\\TIME_PERIOD'].value_counts()"
   ]
  },
  {
   "cell_type": "code",
   "execution_count": 10,
   "id": "6e6bcef8",
   "metadata": {},
   "outputs": [
    {
     "data": {
      "text/plain": [
       "1976 \n",
       ":            32525\n",
       "0.0             33\n",
       "10.7             6\n",
       "15.4             5\n",
       "13.4             5\n",
       "             ...  \n",
       "-1937.8          1\n",
       "-19129.0         1\n",
       "20230.5          1\n",
       "12250.1          1\n",
       "90026.9          1\n",
       "Name: count, Length: 1942, dtype: int64"
      ]
     },
     "execution_count": 10,
     "metadata": {},
     "output_type": "execute_result"
    }
   ],
   "source": [
    "estat_name_10_gdp['1976 '].value_counts()"
   ]
  }
 ],
 "metadata": {
  "kernelspec": {
   "display_name": "spark_env",
   "language": "python",
   "name": "python3"
  },
  "language_info": {
   "codemirror_mode": {
    "name": "ipython",
    "version": 3
   },
   "file_extension": ".py",
   "mimetype": "text/x-python",
   "name": "python",
   "nbconvert_exporter": "python",
   "pygments_lexer": "ipython3",
   "version": "3.12.7"
  }
 },
 "nbformat": 4,
 "nbformat_minor": 5
}
